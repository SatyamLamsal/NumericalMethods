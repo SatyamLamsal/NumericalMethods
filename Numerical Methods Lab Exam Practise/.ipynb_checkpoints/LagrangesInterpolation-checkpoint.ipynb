{
 "cells": [
  {
   "cell_type": "code",
   "execution_count": null,
   "id": "230d960c-f3d2-43b9-bc22-0b109501c636",
   "metadata": {},
   "outputs": [],
   "source": [
    "import numpy as np"
   ]
  },
  {
   "cell_type": "code",
   "execution_count": null,
   "id": "00148b82-a0ca-4ce2-9a8d-2eb87286e974",
   "metadata": {},
   "outputs": [],
   "source": [
    "def lagrangesInterpolation(XPoints, YPoints, x):\n",
    "    loop = np.length(XPoints)\n",
    "    y = (x-XPoints(i))\n",
    "    "
   ]
  },
  {
   "cell_type": "code",
   "execution_count": null,
   "id": "87874428-0bf0-4793-af92-63a0401e0d08",
   "metadata": {},
   "outputs": [],
   "source": [
    "XPoints = np.array([1,2,3,4,5,6,7])\n",
    "YPoints = np.array([1,4,9,16,25,36,49])\n",
    "\n",
    "XAll, YAll = lagrangesInterpolation(XPoints, YPoints)"
   ]
  }
 ],
 "metadata": {
  "kernelspec": {
   "display_name": "Python 3 (ipykernel)",
   "language": "python",
   "name": "python3"
  },
  "language_info": {
   "codemirror_mode": {
    "name": "ipython",
    "version": 3
   },
   "file_extension": ".py",
   "mimetype": "text/x-python",
   "name": "python",
   "nbconvert_exporter": "python",
   "pygments_lexer": "ipython3",
   "version": "3.10.11"
  }
 },
 "nbformat": 4,
 "nbformat_minor": 5
}
