{
 "cells": [
  {
   "cell_type": "code",
   "execution_count": 17,
   "id": "9de2d0d7",
   "metadata": {},
   "outputs": [],
   "source": [
    "import numpy as np"
   ]
  },
  {
   "cell_type": "code",
   "execution_count": 18,
   "id": "1cd4b5b4",
   "metadata": {},
   "outputs": [],
   "source": [
    "def F(x):\n",
    "    return x**2 + 2"
   ]
  },
  {
   "cell_type": "code",
   "execution_count": null,
   "id": "1be7e0ad",
   "metadata": {},
   "outputs": [],
   "source": [
    "def Trapezoidal(F, a, b, n):\n",
    "    h = (b - a) / n\n",
    "    result = F(a) + F(b)\n",
    "    for i in range(1, n):\n",
    "        result += 2 * F(a+i*h)\n",
    "        result *= h/2\n",
    "    return result"
   ]
  },
  {
   "cell_type": "code",
   "execution_count": 19,
   "id": "814bd0d4",
   "metadata": {},
   "outputs": [],
   "source": [
    "def GaussLegendre3P( a, b):\n",
    "# define weights and absicssae\n",
    "    w = np.array([5/9, 8/9, 5/9])\n",
    "    z = np.array([-np.sqrt(3/5), 0, np.sqrt(3/5)])\n",
    "    # Change limits from [a, b] to [-1, 1]\n",
    "    P = (b - a) / 2\n",
    "    Q = (a + b) / 2\n",
    "    x = P*z + Q\n",
    "    result = P * np.dot(F(x), w)\n",
    "    return result"
   ]
  },
  {
   "cell_type": "code",
   "execution_count": 20,
   "id": "9d7d5435",
   "metadata": {},
   "outputs": [],
   "source": [
    "def simpson1by3(a,b,n):\n",
    "    if(n%2 !=  0):\n",
    "        print('For simpsons one third method n should be divisible by 2')\n",
    "        return None\n",
    "    h = (b-a)/n\n",
    "    result = F(a) + F(b)\n",
    "    for i in range(1, n-1):\n",
    "        if i%2 == 0:\n",
    "            coe = 4\n",
    "        else:\n",
    "            coe = 2\n",
    "        result += coe * F(a + i * h)\n",
    "        \n",
    "    result *= h/3 \n",
    "    return result"
   ]
  },
  {
   "cell_type": "code",
   "execution_count": 21,
   "id": "b271f2a6",
   "metadata": {},
   "outputs": [],
   "source": [
    "def simpson3by8(a,b,n):\n",
    "    if (n%3 !=0):\n",
    "        print('Segment mismatch')\n",
    "        return None\n",
    "\n",
    "    h = (b - a) / n\n",
    "    result = F(a) + F(b)\n",
    "    for i in range(1, n-1):\n",
    "        if i%3 == 0:\n",
    "            coe = 2\n",
    "        else: \n",
    "            coe = 3\n",
    "        result += coe * F(a + i*h)\n",
    "    result *= 3*h/8\n",
    "    return result"
   ]
  },
  {
   "cell_type": "code",
   "execution_count": 22,
   "id": "f7c685e2",
   "metadata": {},
   "outputs": [],
   "source": [
    "#Boole's Rule\n",
    "\n",
    "def Boole(a,b,n):\n",
    "    if (n%4 !=0):\n",
    "        print('Segment mismatch')\n",
    "        return None\n",
    "\n",
    "    h = (b - a) / n\n",
    "    result = F(a) + F(b)\n",
    "    for i in range(1, n):\n",
    "        if(i%4 == 0):\n",
    "            coe = 14\n",
    "        elif i%2 == 0:\n",
    "            coe = 12\n",
    "        else:\n",
    "            coe = 32\n",
    "        result += coe * F(a + i*h)\n",
    "    result *= 2*h/45\n",
    "    return result\n"
   ]
  },
  {
   "cell_type": "code",
   "execution_count": 23,
   "id": "44301d2e",
   "metadata": {},
   "outputs": [],
   "source": [
    "#Weddle's Rule\n",
    "\n",
    "def Weddle(a,b,n):\n",
    "    if (n%6 !=0):\n",
    "        print('Segment mismatch')\n",
    "        return None\n",
    "\n",
    "    h = (b - a) / n\n",
    "    result = F(a) + F(b)\n",
    "    for i in range(1, n):\n",
    "        if(i%6 == 0):\n",
    "            coe = 2\n",
    "        elif(i%3 == 0):\n",
    "            coe = 6\n",
    "        elif(i%2 ==0):\n",
    "            coe = 1\n",
    "        else:\n",
    "            coe = 5\n",
    "        result += coe * F(a + i*h)\n",
    "    result *= 3*h/10\n",
    "    return result\n"
   ]
  },
  {
   "cell_type": "code",
   "execution_count": 1,
   "id": "6289ebdc",
   "metadata": {},
   "outputs": [
    {
     "name": "stdout",
     "output_type": "stream",
     "text": [
      "Integration of f(x) = x² + 2 from 2 to 3\n",
      "==================================================\n"
     ]
    },
    {
     "ename": "NameError",
     "evalue": "name 'Trapezoidal' is not defined",
     "output_type": "error",
     "traceback": [
      "\u001b[1;31m---------------------------------------------------------------------------\u001b[0m",
      "\u001b[1;31mNameError\u001b[0m                                 Traceback (most recent call last)",
      "Cell \u001b[1;32mIn[1], line 9\u001b[0m\n\u001b[0;32m      6\u001b[0m \u001b[38;5;28mprint\u001b[39m(\u001b[38;5;124m\"\u001b[39m\u001b[38;5;124m=\u001b[39m\u001b[38;5;124m\"\u001b[39m \u001b[38;5;241m*\u001b[39m \u001b[38;5;241m50\u001b[39m)\n\u001b[0;32m      8\u001b[0m \u001b[38;5;66;03m# Trapezoidal Rule\u001b[39;00m\n\u001b[1;32m----> 9\u001b[0m result_trap \u001b[38;5;241m=\u001b[39m \u001b[43mTrapezoidal\u001b[49m(F, a, b, n)\n\u001b[0;32m     10\u001b[0m \u001b[38;5;28mprint\u001b[39m(\u001b[38;5;124mf\u001b[39m\u001b[38;5;124m\"\u001b[39m\u001b[38;5;124mTrapezoidal Rule (n=\u001b[39m\u001b[38;5;132;01m{\u001b[39;00mn\u001b[38;5;132;01m}\u001b[39;00m\u001b[38;5;124m): \u001b[39m\u001b[38;5;132;01m{\u001b[39;00mresult_trap\u001b[38;5;132;01m:\u001b[39;00m\u001b[38;5;124m.6f\u001b[39m\u001b[38;5;132;01m}\u001b[39;00m\u001b[38;5;124m\"\u001b[39m)\n\u001b[0;32m     12\u001b[0m \u001b[38;5;66;03m# Simpson's 1/3 Rule\u001b[39;00m\n",
      "\u001b[1;31mNameError\u001b[0m: name 'Trapezoidal' is not defined"
     ]
    }
   ],
   "source": [
    "# Test all integration methods\n",
    "a, b = 2, 3  # Integration limits\n",
    "n = 6  # Number of segments (divisible by 2, 3, 4, and 6)\n",
    "\n",
    "print(\"Integration of f(x) = x² + 2 from 2 to 3\")\n",
    "print(\"=\" * 50)\n",
    "\n",
    "# Trapezoidal Rule\n",
    "result_trap = Trapezoidal(F, a, b, n)\n",
    "print(f\"Trapezoidal Rule (n={n}): {result_trap:.6f}\")\n",
    "\n",
    "# Simpson's 1/3 Rule\n",
    "result_simp13 = simpson1by3(a, b, n)\n",
    "print(f\"Simpson's 1/3 Rule (n={n}): {result_simp13:.6f}\")\n",
    "\n",
    "# Simpson's 3/8 Rule\n",
    "result_simp38 = simpson3by8(a, b, n)\n",
    "print(f\"Simpson's 3/8 Rule (n={n}): {result_simp38:.6f}\")\n",
    "\n",
    "# Boole's Rule\n",
    "result_boole = Boole(a, b, n)\n",
    "print(f\"Boole's Rule (n={n}): {result_boole:.6f}\")\n",
    "\n",
    "# Weddle's Rule\n",
    "result_weddle = Weddle(a, b, n)\n",
    "print(f\"Weddle's Rule (n={n}): {result_weddle:.6f}\")\n",
    "\n",
    "# Gauss-Legendre 3-Point\n",
    "result_gauss = GaussLegendre3P(a, b)\n",
    "print(f\"Gauss-Legendre 3-Point: {result_gauss:.6f}\")\n",
    "\n",
    "# Analytical solution for comparison\n",
    "# ∫(x² + 2)dx from 2 to 3 = [x³/3 + 2x] from 2 to 3\n",
    "analytical = (3**3/3 + 2*3) - (2**3/3 + 2*2)\n",
    "print(f\"\\nAnalytical Solution: {analytical:.6f}\")\n",
    "print(\"=\" * 50)"
   ]
  }
 ],
 "metadata": {
  "kernelspec": {
   "display_name": "Python 3",
   "language": "python",
   "name": "python3"
  },
  "language_info": {
   "codemirror_mode": {
    "name": "ipython",
    "version": 3
   },
   "file_extension": ".py",
   "mimetype": "text/x-python",
   "name": "python",
   "nbconvert_exporter": "python",
   "pygments_lexer": "ipython3",
   "version": "3.10.11"
  }
 },
 "nbformat": 4,
 "nbformat_minor": 5
}
