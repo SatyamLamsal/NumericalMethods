{
 "cells": [
  {
   "cell_type": "code",
   "execution_count": 1,
   "id": "c378b681",
   "metadata": {},
   "outputs": [
    {
     "name": "stdout",
     "output_type": "stream",
     "text": [
      "Estimated value at x = 2.5 is 3.875\n"
     ]
    }
   ],
   "source": [
    "import numpy as np\n",
    "\n",
    "def lagrange_interpolation(x_points, y_points, x):\n",
    "    \"\"\"\n",
    "    Lagrange interpolation function.\n",
    "    \n",
    "    Parameters:\n",
    "        x_points (list or array): Known x values\n",
    "        y_points (list or array): Known y values\n",
    "        x (float): Value to estimate\n",
    "    \n",
    "    Returns:\n",
    "        float: Interpolated value at x\n",
    "    \"\"\"\n",
    "    n = len(x_points)\n",
    "    result = 0.0\n",
    "    \n",
    "    for i in range(n):\n",
    "        # Compute L_i(x)\n",
    "        term = y_points[i]\n",
    "        for j in range(n):\n",
    "            if j != i:\n",
    "                term *= (x - x_points[j]) / (x_points[i] - x_points[j])\n",
    "        result += term\n",
    "    \n",
    "    return result\n",
    "\n",
    "# Example\n",
    "x_points = [1, 2, 3]\n",
    "y_points = [2, 3, 5]\n",
    "\n",
    "x_to_estimate = 2.5\n",
    "y_estimated = lagrange_interpolation(x_points, y_points, x_to_estimate)\n",
    "\n",
    "print(f\"Estimated value at x = {x_to_estimate} is {y_estimated}\")\n"
   ]
  }
 ],
 "metadata": {
  "kernelspec": {
   "display_name": "Python 3",
   "language": "python",
   "name": "python3"
  },
  "language_info": {
   "codemirror_mode": {
    "name": "ipython",
    "version": 3
   },
   "file_extension": ".py",
   "mimetype": "text/x-python",
   "name": "python",
   "nbconvert_exporter": "python",
   "pygments_lexer": "ipython3",
   "version": "3.10.11"
  }
 },
 "nbformat": 4,
 "nbformat_minor": 5
}
