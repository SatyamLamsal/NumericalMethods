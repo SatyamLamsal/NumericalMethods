{
 "cells": [
  {
   "cell_type": "code",
   "execution_count": 2,
   "id": "6c3d2c4c",
   "metadata": {},
   "outputs": [
    {
     "name": "stdout",
     "output_type": "stream",
     "text": [
      "Solution: [5. 2. 3.]\n"
     ]
    }
   ],
   "source": [
    "import numpy as np\n",
    "\n",
    "def GaussJordan(a, b):\n",
    "    A = np.array(a, dtype=float)\n",
    "    B = np.array(b, dtype=float)\n",
    "    \n",
    "    if A.ndim != 2 or B.ndim != 1 \\\n",
    "       or A.shape[0] != A.shape[1] \\\n",
    "       or A.shape[0] != B.shape[0]:\n",
    "        print(\"Error! Incorrect dimension(s).\")\n",
    "        return None\n",
    "    \n",
    "    n = len(B)\n",
    "    \n",
    "    # Diagonalization\n",
    "    for j in range(n):\n",
    "        if abs(A[j][j]) < 0.5e-9:\n",
    "            print(f\"Error! Pivot[{j+1},{j+1}] is zero or close to zero.\")\n",
    "            return None\n",
    "        \n",
    "        for i in range(n):\n",
    "            ratio = A[i][j] / A[j][j]\n",
    "            if i != j:\n",
    "                k = range(j, n)\n",
    "                A[i][k] -= ratio * A[j][k]\n",
    "                B[i] -= ratio * B[j]\n",
    "    \n",
    "    # Solution\n",
    "    X = np.zeros(n, dtype=float)\n",
    "    for i in range(n):\n",
    "        X[i] = B[i] / A[i][i]\n",
    "    \n",
    "    return X\n",
    "\n",
    "A = [[2, 3, 5], [3, 5, 2], [5, 2, 3]]\n",
    "B = [31, 31, 38]\n",
    "X = GaussJordan(A, B)\n",
    "print(\"Solution:\", X)\n"
   ]
  }
 ],
 "metadata": {
  "kernelspec": {
   "display_name": "Python 3",
   "language": "python",
   "name": "python3"
  },
  "language_info": {
   "codemirror_mode": {
    "name": "ipython",
    "version": 3
   },
   "file_extension": ".py",
   "mimetype": "text/x-python",
   "name": "python",
   "nbconvert_exporter": "python",
   "pygments_lexer": "ipython3",
   "version": "3.10.11"
  }
 },
 "nbformat": 4,
 "nbformat_minor": 5
}
