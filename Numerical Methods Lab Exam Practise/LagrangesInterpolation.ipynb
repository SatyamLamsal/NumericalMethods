{
 "cells": [
  {
   "cell_type": "code",
   "execution_count": 1,
   "id": "230d960c-f3d2-43b9-bc22-0b109501c636",
   "metadata": {},
   "outputs": [],
   "source": [
    "import numpy as np\n",
    "import matplotlib.pyplot as plt"
   ]
  },
  {
   "cell_type": "code",
   "execution_count": 2,
   "id": "4a77de2b",
   "metadata": {},
   "outputs": [],
   "source": [
    "def F(x):\n",
    "    return 1/(1 + x**2)"
   ]
  },
  {
   "cell_type": "code",
   "execution_count": 3,
   "id": "00148b82-a0ca-4ce2-9a8d-2eb87286e974",
   "metadata": {},
   "outputs": [],
   "source": [
    "def lagrangesInterpolation(XPoints, YPoints, x):\n",
    "    loop  = len(XPoints)\n",
    "    Val = 0 \n",
    "    for i in range(loop):        \n",
    "        Seg = 1 \n",
    "        for j in range(loop):                      \n",
    "            if(i!=j):\n",
    "                Seg *= (x-XPoints[j])/(XPoints[i] - XPoints[j]) \n",
    "        Seg *= YPoints[i]\n",
    "        Val += Seg\n",
    "    return Val\n",
    "                "
   ]
  },
  {
   "cell_type": "code",
   "execution_count": 4,
   "id": "87874428-0bf0-4793-af92-63a0401e0d08",
   "metadata": {},
   "outputs": [
    {
     "name": "stdout",
     "output_type": "stream",
     "text": [
      "Value : 12.25\n"
     ]
    }
   ],
   "source": [
    "XPoints = np.array([1,2,3,4,5,6,7])\n",
    "YPoints = np.array([1,4,9,16,25,36,49])\n",
    "Val = lagrangesInterpolation(XPoints, YPoints, 3.5)\n",
    "print(f'Value : {Val}')"
   ]
  }
 ],
 "metadata": {
  "kernelspec": {
   "display_name": "Python 3",
   "language": "python",
   "name": "python3"
  },
  "language_info": {
   "codemirror_mode": {
    "name": "ipython",
    "version": 3
   },
   "file_extension": ".py",
   "mimetype": "text/x-python",
   "name": "python",
   "nbconvert_exporter": "python",
   "pygments_lexer": "ipython3",
   "version": "3.10.11"
  }
 },
 "nbformat": 4,
 "nbformat_minor": 5
}
