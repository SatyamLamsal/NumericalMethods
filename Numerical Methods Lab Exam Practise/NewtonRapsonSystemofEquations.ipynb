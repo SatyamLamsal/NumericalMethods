{
 "cells": [
  {
   "cell_type": "code",
   "execution_count": 16,
   "id": "80e2de74",
   "metadata": {},
   "outputs": [],
   "source": [
    "import numpy as np"
   ]
  },
  {
   "cell_type": "code",
   "execution_count": 17,
   "id": "e4a5e725",
   "metadata": {},
   "outputs": [],
   "source": [
    "def NewtonRaphsonSystem(F, J, X, p=4, N=100):\n",
    "    tol = 0.5 * 10**(-p)\n",
    "    X0 = np.array(X, dtype=float)\n",
    "    \n",
    "    for i in range(N):\n",
    "        if abs(np.linalg.det(J(X0))) < 5e-9:\n",
    "            print(\"Error: Singular system detected!\")\n",
    "            return None\n",
    "        \n",
    "        H = np.linalg.solve(J(X0), -F(X0))\n",
    "        X1 = X0 + H\n",
    "        err = max(abs(H))\n",
    "        X0 = X1.copy()\n",
    "        \n",
    "        if err < tol:\n",
    "            return np.round(X1, p)\n",
    "    \n",
    "    print(\"Error: Not convergent!\")\n",
    "    return None\n"
   ]
  },
  {
   "cell_type": "code",
   "execution_count": 18,
   "id": "9fa104bd",
   "metadata": {},
   "outputs": [
    {
     "name": "stdout",
     "output_type": "stream",
     "text": [
      "Solution:  [3.873  3.1623]\n",
      "F(x,y):  [-0.      0.0003]\n"
     ]
    }
   ],
   "source": [
    "def f1(x):\n",
    "    return np.array([\n",
    "    x[0]**2 - x[1]**2 - 5,\n",
    "    x[0]**2 + x[1]**2 - 25\n",
    "    ])\n",
    "\n",
    "def j1(x):\n",
    "    return np.array([\n",
    "    [ 2*x[0], -2*x[1] ],\n",
    "    [ 2*x[0], 2*x[1] ]\n",
    "    ])\n",
    "\n",
    "X1 = NewtonRaphsonSystem(f1, j1, [2, 3])\n",
    "print(\"Solution: \", X1)\n",
    "print(\"F(x,y): \", np.round(f1(X1), 4))"
   ]
  }
 ],
 "metadata": {
  "kernelspec": {
   "display_name": "Python 3",
   "language": "python",
   "name": "python3"
  },
  "language_info": {
   "codemirror_mode": {
    "name": "ipython",
    "version": 3
   },
   "file_extension": ".py",
   "mimetype": "text/x-python",
   "name": "python",
   "nbconvert_exporter": "python",
   "pygments_lexer": "ipython3",
   "version": "3.10.11"
  }
 },
 "nbformat": 4,
 "nbformat_minor": 5
}
