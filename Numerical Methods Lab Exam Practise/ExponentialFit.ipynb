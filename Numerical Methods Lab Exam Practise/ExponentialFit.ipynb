{
 "cells": [
  {
   "cell_type": "code",
   "execution_count": 1,
   "id": "a009c8af",
   "metadata": {},
   "outputs": [
    {
     "name": "stdout",
     "output_type": "stream",
     "text": [
      "Fitted model: y = 0.9955 * e^(1.0012 * x)\n"
     ]
    }
   ],
   "source": [
    "import numpy as np\n",
    "\n",
    "def exponential_fit(x, y):\n",
    "    \"\"\"\n",
    "    Fits an exponential curve y = a * e^(b*x) to given data points.\n",
    "    \n",
    "    Parameters:\n",
    "        x (array-like): Independent variable data\n",
    "        y (array-like): Dependent variable data\n",
    "        \n",
    "    Returns:\n",
    "        tuple: (a, b) parameters of the fitted exponential function\n",
    "    \"\"\"\n",
    "    # Convert to numpy arrays\n",
    "    x = np.array(x, dtype=float)\n",
    "    y = np.array(y, dtype=float)\n",
    "    \n",
    "    # Take log of y for linearization\n",
    "    Y = np.log(y)\n",
    "    \n",
    "    # Perform linear regression\n",
    "    n = len(x)\n",
    "    sum_x = np.sum(x)\n",
    "    sum_Y = np.sum(Y)\n",
    "    sum_xY = np.sum(x * Y)\n",
    "    sum_x2 = np.sum(x**2)\n",
    "    \n",
    "    b = (n * sum_xY - sum_x * sum_Y) / (n * sum_x2 - sum_x**2)\n",
    "    A = (sum_Y - b * sum_x) / n\n",
    "    a = np.exp(A)\n",
    "    \n",
    "    return a, b\n",
    "\n",
    "# Example usage\n",
    "x_data = [1, 2, 3, 4, 5]\n",
    "y_data = [2.7, 7.4, 20.1, 54.6, 148.4]\n",
    "\n",
    "a, b = exponential_fit(x_data, y_data)\n",
    "print(f\"Fitted model: y = {a:.4f} * e^({b:.4f} * x)\")\n"
   ]
  }
 ],
 "metadata": {
  "kernelspec": {
   "display_name": "Python 3",
   "language": "python",
   "name": "python3"
  },
  "language_info": {
   "codemirror_mode": {
    "name": "ipython",
    "version": 3
   },
   "file_extension": ".py",
   "mimetype": "text/x-python",
   "name": "python",
   "nbconvert_exporter": "python",
   "pygments_lexer": "ipython3",
   "version": "3.10.11"
  }
 },
 "nbformat": 4,
 "nbformat_minor": 5
}
