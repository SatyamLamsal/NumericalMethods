{
 "cells": [
  {
   "cell_type": "code",
   "execution_count": 5,
   "id": "5bb258b1-e4e9-49b0-a9e1-67d1eccc0795",
   "metadata": {},
   "outputs": [],
   "source": [
    "import numpy as np"
   ]
  },
  {
   "cell_type": "code",
   "execution_count": 6,
   "id": "53734496-8a03-425d-85ce-6cebe47e4067",
   "metadata": {},
   "outputs": [],
   "source": [
    "def F(x):\n",
    "    return x-5"
   ]
  },
  {
   "cell_type": "code",
   "execution_count": 7,
   "id": "12dafab5-02f8-4aec-9669-a148d857e89f",
   "metadata": {},
   "outputs": [],
   "source": [
    "def secantMethod(a,b,precision):\n",
    "    tol = 0.5 * 10**(-precision)\n",
    "    for i in range(100):\n",
    "        if (F(b)-F(a)) == 0:\n",
    "            break\n",
    "        c = (F(b)*a - b*F(a))/(F(b) - F(a))\n",
    "        a, b = b, c\n",
    "    print(f'Root of Function : {c}')"
   ]
  },
  {
   "cell_type": "code",
   "execution_count": 8,
   "id": "7c371f9d-4fef-41c3-86f5-a84c8efeca82",
   "metadata": {},
   "outputs": [
    {
     "name": "stdout",
     "output_type": "stream",
     "text": [
      "Root of Function : 5.0\n"
     ]
    }
   ],
   "source": [
    "secantMethod(1,10,4)"
   ]
  }
 ],
 "metadata": {
  "kernelspec": {
   "display_name": "Python 3",
   "language": "python",
   "name": "python3"
  },
  "language_info": {
   "codemirror_mode": {
    "name": "ipython",
    "version": 3
   },
   "file_extension": ".py",
   "mimetype": "text/x-python",
   "name": "python",
   "nbconvert_exporter": "python",
   "pygments_lexer": "ipython3",
   "version": "3.10.11"
  }
 },
 "nbformat": 4,
 "nbformat_minor": 5
}
