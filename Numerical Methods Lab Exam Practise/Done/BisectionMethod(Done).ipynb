{
 "cells": [
  {
   "cell_type": "code",
   "execution_count": 9,
   "id": "af2783be-9e69-4992-b92e-6fe21bf859d7",
   "metadata": {},
   "outputs": [],
   "source": [
    "import numpy as np"
   ]
  },
  {
   "cell_type": "code",
   "execution_count": 10,
   "id": "f401200b-066b-4fd4-ae52-5e21c92f23e8",
   "metadata": {},
   "outputs": [],
   "source": [
    "def F(x):\n",
    "    return x - 5"
   ]
  },
  {
   "cell_type": "code",
   "execution_count": 11,
   "id": "ed0eb6e6-945b-4482-9919-ac2d81471fbc",
   "metadata": {},
   "outputs": [],
   "source": [
    "def bisectionRoot(r1, r2, precision):\n",
    "    tol =  0.5 * 10**(-precision)\n",
    "    print(f'Tolerance : {tol}')\n",
    "    \n",
    "    if F(r1) * F(r2) > 0:\n",
    "        print('Invalid Range')\n",
    "        return \n",
    "    \n",
    "    while abs(r1-r2) > tol:\n",
    "        mid = (r1 + r2)/2\n",
    "        if F(mid) * F(r1) < 0:\n",
    "            r2 = mid\n",
    "        elif F(mid) * F(r2) <0:\n",
    "            r1 = mid\n",
    "        \n",
    "    print(f'The Root is {round(mid,precision)}')  "
   ]
  },
  {
   "cell_type": "code",
   "execution_count": 12,
   "id": "b62764c3-cb48-46c3-be0f-c01c2ea005bb",
   "metadata": {},
   "outputs": [
    {
     "name": "stdout",
     "output_type": "stream",
     "text": [
      "Tolerance : 5e-06\n",
      "The Root is 5.0\n"
     ]
    }
   ],
   "source": [
    "bisectionRoot(4, 7,5)"
   ]
  }
 ],
 "metadata": {
  "kernelspec": {
   "display_name": "Python 3",
   "language": "python",
   "name": "python3"
  },
  "language_info": {
   "codemirror_mode": {
    "name": "ipython",
    "version": 3
   },
   "file_extension": ".py",
   "mimetype": "text/x-python",
   "name": "python",
   "nbconvert_exporter": "python",
   "pygments_lexer": "ipython3",
   "version": "3.10.11"
  }
 },
 "nbformat": 4,
 "nbformat_minor": 5
}
