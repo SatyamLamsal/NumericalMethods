{
 "cells": [
  {
   "cell_type": "code",
   "execution_count": 15,
   "id": "8b2c6ea6-aea7-4b06-953d-0ec7ac72627d",
   "metadata": {},
   "outputs": [],
   "source": [
    "import numpy as np"
   ]
  },
  {
   "cell_type": "code",
   "execution_count": 16,
   "id": "d3711542-2dbc-4dbd-87c7-ffc10f7d1006",
   "metadata": {},
   "outputs": [],
   "source": [
    "def F(x):\n",
    "    return (x**2 - 25)/4"
   ]
  },
  {
   "cell_type": "code",
   "execution_count": 17,
   "id": "893f6529-09a5-42ff-a2dc-73771b56d7ad",
   "metadata": {},
   "outputs": [],
   "source": [
    "def Fdash(x):\n",
    "    return x/2"
   ]
  },
  {
   "cell_type": "code",
   "execution_count": 18,
   "id": "e27e2efb-3b26-4cfd-9fa3-dae309c764f1",
   "metadata": {},
   "outputs": [],
   "source": [
    "def NewtonRapson(initialGuess):\n",
    "    for i in range(100):\n",
    "        dif = F(initialGuess) / Fdash(initialGuess)\n",
    "        initialGuess -= dif\n",
    "    print(f'Root of eqn is : {initialGuess}')\n",
    "    "
   ]
  },
  {
   "cell_type": "code",
   "execution_count": 19,
   "id": "cd40b291-13db-4b5a-a674-4faf174952b2",
   "metadata": {},
   "outputs": [
    {
     "name": "stdout",
     "output_type": "stream",
     "text": [
      "Root of eqn is : 5.0\n"
     ]
    }
   ],
   "source": [
    "NewtonRapson(20)"
   ]
  },
  {
   "cell_type": "code",
   "execution_count": null,
   "id": "9ee84967-e5d1-4abf-a945-3d1cfb341942",
   "metadata": {},
   "outputs": [],
   "source": []
  }
 ],
 "metadata": {
  "kernelspec": {
   "display_name": "Python 3 (ipykernel)",
   "language": "python",
   "name": "python3"
  },
  "language_info": {
   "codemirror_mode": {
    "name": "ipython",
    "version": 3
   },
   "file_extension": ".py",
   "mimetype": "text/x-python",
   "name": "python",
   "nbconvert_exporter": "python",
   "pygments_lexer": "ipython3",
   "version": "3.10.11"
  }
 },
 "nbformat": 4,
 "nbformat_minor": 5
}
